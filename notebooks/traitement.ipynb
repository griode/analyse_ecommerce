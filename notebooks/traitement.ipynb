{
 "cells": [
  {
   "cell_type": "code",
   "execution_count": 1,
   "id": "038e38f3",
   "metadata": {
    "ExecuteTime": {
     "end_time": "2025-08-01T02:50:26.146359Z",
     "start_time": "2025-08-01T02:50:25.455299Z"
    }
   },
   "outputs": [],
   "source": [
    "import pandas as pd\n",
    "import matplotlib.pyplot as plt"
   ]
  },
  {
   "cell_type": "code",
   "execution_count": 2,
   "id": "c537fe12",
   "metadata": {
    "ExecuteTime": {
     "end_time": "2025-08-01T02:50:49.490741Z",
     "start_time": "2025-08-01T02:50:26.164045Z"
    }
   },
   "outputs": [
    {
     "data": {
      "application/vnd.microsoft.datawrangler.viewer.v0+json": {
       "columns": [
        {
         "name": "index",
         "rawType": "int64",
         "type": "integer"
        },
        {
         "name": "Cod_cmd",
         "rawType": "int64",
         "type": "integer"
        },
        {
         "name": "Libellé produit",
         "rawType": "object",
         "type": "string"
        },
        {
         "name": "Vendeur",
         "rawType": "object",
         "type": "string"
        },
        {
         "name": "Univers",
         "rawType": "object",
         "type": "string"
        },
        {
         "name": "Nature",
         "rawType": "object",
         "type": "string"
        },
        {
         "name": "Date de commande",
         "rawType": "int64",
         "type": "integer"
        },
        {
         "name": "Montant cmd",
         "rawType": "int64",
         "type": "integer"
        },
        {
         "name": "Quantité",
         "rawType": "int64",
         "type": "integer"
        },
        {
         "name": "Prix transport",
         "rawType": "float64",
         "type": "float"
        },
        {
         "name": "Délai transport annoncé",
         "rawType": "float64",
         "type": "float"
        }
       ],
       "ref": "0ce902c3-425f-4504-9a17-d30ad2df7e81",
       "rows": [
        [
         "0",
         "182210782",
         "Table basse carrée detroit design industriel",
         "Autre vendeur",
         "Canapé Salon Séjour",
         "Table basse",
         "44216",
         "244",
         "4",
         "6.67",
         "10.0"
        ],
        [
         "1",
         "182082437",
         "Ours en peluche géant 150 cm brun",
         "Autre vendeur",
         "Enfant Bébé",
         "Peluche",
         "44213",
         "28",
         "1",
         "9.92",
         "10.0"
        ],
        [
         "2",
         "182095765",
         "Ours en peluche géant 100 cm blanc",
         "Autre vendeur",
         "Enfant Bébé",
         "Peluche",
         "44214",
         "15",
         "1",
         "9.92",
         "10.0"
        ],
        [
         "3",
         "182615392",
         "Lot de 4 chaises mia noires pour salle à manger",
         "Autre vendeur",
         "Canapé Salon Séjour",
         "Chaise",
         "44219",
         "385",
         "2",
         "20.75",
         "10.0"
        ],
        [
         "4",
         "184222081",
         "Meuble tv falko bois blanc et gris",
         "Autre vendeur",
         "Canapé Salon Séjour",
         "Meuble tv",
         "44238",
         "61",
         "1",
         "19.08",
         "10.0"
        ]
       ],
       "shape": {
        "columns": 10,
        "rows": 5
       }
      },
      "text/html": [
       "<div>\n",
       "<style scoped>\n",
       "    .dataframe tbody tr th:only-of-type {\n",
       "        vertical-align: middle;\n",
       "    }\n",
       "\n",
       "    .dataframe tbody tr th {\n",
       "        vertical-align: top;\n",
       "    }\n",
       "\n",
       "    .dataframe thead th {\n",
       "        text-align: right;\n",
       "    }\n",
       "</style>\n",
       "<table border=\"1\" class=\"dataframe\">\n",
       "  <thead>\n",
       "    <tr style=\"text-align: right;\">\n",
       "      <th></th>\n",
       "      <th>Cod_cmd</th>\n",
       "      <th>Libellé produit</th>\n",
       "      <th>Vendeur</th>\n",
       "      <th>Univers</th>\n",
       "      <th>Nature</th>\n",
       "      <th>Date de commande</th>\n",
       "      <th>Montant cmd</th>\n",
       "      <th>Quantité</th>\n",
       "      <th>Prix transport</th>\n",
       "      <th>Délai transport annoncé</th>\n",
       "    </tr>\n",
       "  </thead>\n",
       "  <tbody>\n",
       "    <tr>\n",
       "      <th>0</th>\n",
       "      <td>182210782</td>\n",
       "      <td>Table basse carrée detroit design industriel</td>\n",
       "      <td>Autre vendeur</td>\n",
       "      <td>Canapé Salon Séjour</td>\n",
       "      <td>Table basse</td>\n",
       "      <td>44216</td>\n",
       "      <td>244</td>\n",
       "      <td>4</td>\n",
       "      <td>6.67</td>\n",
       "      <td>10.0</td>\n",
       "    </tr>\n",
       "    <tr>\n",
       "      <th>1</th>\n",
       "      <td>182082437</td>\n",
       "      <td>Ours en peluche géant 150 cm brun</td>\n",
       "      <td>Autre vendeur</td>\n",
       "      <td>Enfant Bébé</td>\n",
       "      <td>Peluche</td>\n",
       "      <td>44213</td>\n",
       "      <td>28</td>\n",
       "      <td>1</td>\n",
       "      <td>9.92</td>\n",
       "      <td>10.0</td>\n",
       "    </tr>\n",
       "    <tr>\n",
       "      <th>2</th>\n",
       "      <td>182095765</td>\n",
       "      <td>Ours en peluche géant 100 cm blanc</td>\n",
       "      <td>Autre vendeur</td>\n",
       "      <td>Enfant Bébé</td>\n",
       "      <td>Peluche</td>\n",
       "      <td>44214</td>\n",
       "      <td>15</td>\n",
       "      <td>1</td>\n",
       "      <td>9.92</td>\n",
       "      <td>10.0</td>\n",
       "    </tr>\n",
       "    <tr>\n",
       "      <th>3</th>\n",
       "      <td>182615392</td>\n",
       "      <td>Lot de 4 chaises mia noires pour salle à manger</td>\n",
       "      <td>Autre vendeur</td>\n",
       "      <td>Canapé Salon Séjour</td>\n",
       "      <td>Chaise</td>\n",
       "      <td>44219</td>\n",
       "      <td>385</td>\n",
       "      <td>2</td>\n",
       "      <td>20.75</td>\n",
       "      <td>10.0</td>\n",
       "    </tr>\n",
       "    <tr>\n",
       "      <th>4</th>\n",
       "      <td>184222081</td>\n",
       "      <td>Meuble tv falko bois blanc et gris</td>\n",
       "      <td>Autre vendeur</td>\n",
       "      <td>Canapé Salon Séjour</td>\n",
       "      <td>Meuble tv</td>\n",
       "      <td>44238</td>\n",
       "      <td>61</td>\n",
       "      <td>1</td>\n",
       "      <td>19.08</td>\n",
       "      <td>10.0</td>\n",
       "    </tr>\n",
       "  </tbody>\n",
       "</table>\n",
       "</div>"
      ],
      "text/plain": [
       "     Cod_cmd                                  Libellé produit        Vendeur  \\\n",
       "0  182210782     Table basse carrée detroit design industriel  Autre vendeur   \n",
       "1  182082437                Ours en peluche géant 150 cm brun  Autre vendeur   \n",
       "2  182095765               Ours en peluche géant 100 cm blanc  Autre vendeur   \n",
       "3  182615392  Lot de 4 chaises mia noires pour salle à manger  Autre vendeur   \n",
       "4  184222081               Meuble tv falko bois blanc et gris  Autre vendeur   \n",
       "\n",
       "               Univers       Nature  Date de commande  Montant cmd  Quantité  \\\n",
       "0  Canapé Salon Séjour  Table basse             44216          244         4   \n",
       "1          Enfant Bébé      Peluche             44213           28         1   \n",
       "2          Enfant Bébé      Peluche             44214           15         1   \n",
       "3  Canapé Salon Séjour       Chaise             44219          385         2   \n",
       "4  Canapé Salon Séjour    Meuble tv             44238           61         1   \n",
       "\n",
       "   Prix transport  Délai transport annoncé  \n",
       "0            6.67                     10.0  \n",
       "1            9.92                     10.0  \n",
       "2            9.92                     10.0  \n",
       "3           20.75                     10.0  \n",
       "4           19.08                     10.0  "
      ]
     },
     "execution_count": 2,
     "metadata": {},
     "output_type": "execute_result"
    }
   ],
   "source": [
    "# chargement du fichier Excel\n",
    "df = pd.read_excel('../data/ecommerce_sales.xlsb')\n",
    "df.head()"
   ]
  },
  {
   "cell_type": "code",
   "execution_count": 3,
   "id": "e3251f72",
   "metadata": {
    "ExecuteTime": {
     "end_time": "2025-08-01T02:50:49.711279Z",
     "start_time": "2025-08-01T02:50:49.707774Z"
    }
   },
   "outputs": [
    {
     "data": {
      "text/plain": [
       "(525034, 10)"
      ]
     },
     "execution_count": 3,
     "metadata": {},
     "output_type": "execute_result"
    }
   ],
   "source": [
    "# taille du dataframe\n",
    "df.shape"
   ]
  },
  {
   "cell_type": "code",
   "execution_count": 4,
   "id": "7aee61cb",
   "metadata": {
    "ExecuteTime": {
     "end_time": "2025-08-01T02:50:50.067824Z",
     "start_time": "2025-08-01T02:50:49.922881Z"
    }
   },
   "outputs": [
    {
     "data": {
      "application/vnd.microsoft.datawrangler.viewer.v0+json": {
       "columns": [
        {
         "name": "index",
         "rawType": "object",
         "type": "string"
        },
        {
         "name": "0",
         "rawType": "int64",
         "type": "integer"
        }
       ],
       "ref": "eb55bb96-81cf-4efa-b7f0-10b98daf41d4",
       "rows": [
        [
         "Cod_cmd",
         "0"
        ],
        [
         "Libellé produit",
         "0"
        ],
        [
         "Vendeur",
         "0"
        ],
        [
         "Univers",
         "17687"
        ],
        [
         "Nature",
         "11745"
        ],
        [
         "Date de commande",
         "0"
        ],
        [
         "Montant cmd",
         "0"
        ],
        [
         "Quantité",
         "0"
        ],
        [
         "Prix transport",
         "0"
        ],
        [
         "Délai transport annoncé",
         "239423"
        ]
       ],
       "shape": {
        "columns": 1,
        "rows": 10
       }
      },
      "text/plain": [
       "Cod_cmd                         0\n",
       "Libellé produit                 0\n",
       "Vendeur                         0\n",
       "Univers                     17687\n",
       "Nature                      11745\n",
       "Date de commande                0\n",
       "Montant cmd                     0\n",
       "Quantité                        0\n",
       "Prix transport                  0\n",
       "Délai transport annoncé    239423\n",
       "dtype: int64"
      ]
     },
     "execution_count": 4,
     "metadata": {},
     "output_type": "execute_result"
    }
   ],
   "source": [
    "df.isnull().sum()"
   ]
  },
  {
   "cell_type": "code",
   "execution_count": 5,
   "id": "aa5d6b95",
   "metadata": {
    "ExecuteTime": {
     "end_time": "2025-08-01T02:50:50.850415Z",
     "start_time": "2025-08-01T02:50:50.484786Z"
    }
   },
   "outputs": [
    {
     "data": {
      "text/plain": [
       "np.int64(1049)"
      ]
     },
     "execution_count": 5,
     "metadata": {},
     "output_type": "execute_result"
    }
   ],
   "source": [
    "# Nombre de doublons\n",
    "df.duplicated().sum()"
   ]
  },
  {
   "cell_type": "code",
   "execution_count": 6,
   "id": "5b6d907f",
   "metadata": {
    "ExecuteTime": {
     "end_time": "2025-08-01T02:50:51.084759Z",
     "start_time": "2025-08-01T02:50:50.980739Z"
    }
   },
   "outputs": [
    {
     "name": "stdout",
     "output_type": "stream",
     "text": [
      "<class 'pandas.core.frame.DataFrame'>\n",
      "RangeIndex: 525034 entries, 0 to 525033\n",
      "Data columns (total 10 columns):\n",
      " #   Column                   Non-Null Count   Dtype  \n",
      "---  ------                   --------------   -----  \n",
      " 0   Cod_cmd                  525034 non-null  int64  \n",
      " 1   Libellé produit          525034 non-null  object \n",
      " 2   Vendeur                  525034 non-null  object \n",
      " 3   Univers                  507347 non-null  object \n",
      " 4   Nature                   513289 non-null  object \n",
      " 5   Date de commande         525034 non-null  int64  \n",
      " 6   Montant cmd              525034 non-null  int64  \n",
      " 7   Quantité                 525034 non-null  int64  \n",
      " 8   Prix transport           525034 non-null  float64\n",
      " 9   Délai transport annoncé  285611 non-null  float64\n",
      "dtypes: float64(2), int64(4), object(4)\n",
      "memory usage: 40.1+ MB\n"
     ]
    }
   ],
   "source": [
    "df.info()"
   ]
  },
  {
   "cell_type": "code",
   "execution_count": null,
   "id": "d6f1366a",
   "metadata": {
    "ExecuteTime": {
     "end_time": "2025-08-01T02:50:51.164447Z",
     "start_time": "2025-08-01T02:50:51.139065Z"
    }
   },
   "outputs": [
    {
     "data": {
      "application/vnd.microsoft.datawrangler.viewer.v0+json": {
       "columns": [
        {
         "name": "Nature",
         "rawType": "object",
         "type": "string"
        },
        {
         "name": "count",
         "rawType": "int64",
         "type": "integer"
        }
       ],
       "ref": "3d1fff68-84a2-483b-9dfc-b70ebc0cfd5e",
       "rows": [
        [
         "Matelas",
         "35593"
        ],
        [
         "Lit adulte",
         "21133"
        ],
        [
         "Meuble à chaussures",
         "19105"
        ],
        [
         "Chaise",
         "15591"
        ],
        [
         "Bureau",
         "15409"
        ],
        [
         "Lave linge",
         "14639"
        ],
        [
         "Bibliotheque",
         "14129"
        ],
        [
         "Armoire",
         "13316"
        ],
        [
         "Table basse",
         "12530"
        ],
        [
         "Meuble tv",
         "12488"
        ],
        [
         "Lit jeune",
         "11377"
        ],
        [
         "Chaise de bureau",
         "9806"
        ],
        [
         "Tapis de Salon et Ch",
         "9540"
        ],
        [
         "Commode",
         "9384"
        ],
        [
         "Tv ecran plat",
         "8860"
        ],
        [
         "Table",
         "8745"
        ],
        [
         "Refrigerateur",
         "8410"
        ],
        [
         "Canapé d'angle",
         "8403"
        ],
        [
         "Sommier",
         "8259"
        ],
        [
         "Buffet",
         "6925"
        ],
        [
         "Cadre à lattes",
         "6882"
        ],
        [
         "Four",
         "6690"
        ],
        [
         "Lave vaisselle",
         "6514"
        ],
        [
         "Plaque de cuisson",
         "6453"
        ],
        [
         "Friteuse",
         "6298"
        ],
        [
         "Micro ondes",
         "6257"
        ],
        [
         "Chevet",
         "6240"
        ],
        [
         "Canape droit",
         "6169"
        ],
        [
         "Meuble bas cuisine",
         "6125"
        ],
        [
         "Fauteuil",
         "5805"
        ],
        [
         "Banquette",
         "5232"
        ],
        [
         "Matelas + sommier",
         "4697"
        ],
        [
         "Couette",
         "4106"
        ],
        [
         "Tabouret",
         "3927"
        ],
        [
         "Coiffeuse",
         "3844"
        ],
        [
         "Parure de lit",
         "3704"
        ],
        [
         "Porte manteau",
         "3639"
        ],
        [
         "Meuble haut cuisine",
         "3256"
        ],
        [
         "Seche linge",
         "3241"
        ],
        [
         "Buffet de cuisine",
         "3192"
        ],
        [
         "Aspirateur balai",
         "3147"
        ],
        [
         "Etagère",
         "2990"
        ],
        [
         "Pc portable",
         "2908"
        ],
        [
         "Hotte",
         "2812"
        ],
        [
         "Console",
         "2804"
        ],
        [
         "Lampadaire",
         "2715"
        ],
        [
         "Cuisiniere",
         "2538"
        ],
        [
         "Colonne sdb",
         "2494"
        ],
        [
         "Ens table chaises",
         "2492"
        ],
        [
         "Oreiller",
         "2325"
        ]
       ],
       "shape": {
        "columns": 1,
        "rows": 596
       }
      },
      "text/plain": [
       "Nature\n",
       "Matelas                35593\n",
       "Lit adulte             21133\n",
       "Meuble à chaussures    19105\n",
       "Chaise                 15591\n",
       "Bureau                 15409\n",
       "                       ...  \n",
       "Fendeur de bûches          1\n",
       "Facade de cuisine          1\n",
       "Défroisseur                1\n",
       "Echarpe de portage         1\n",
       "Lame de terrasse           1\n",
       "Name: count, Length: 596, dtype: int64"
      ]
     },
     "execution_count": 7,
     "metadata": {},
     "output_type": "execute_result"
    }
   ],
   "source": [
    "# Valeurs uniques de la colonne nature\n",
    "df['Nature'].value_counts() "
   ]
  },
  {
   "cell_type": "code",
   "execution_count": 8,
   "id": "7f980608163f2e68",
   "metadata": {
    "ExecuteTime": {
     "end_time": "2025-08-01T02:55:14.309585Z",
     "start_time": "2025-08-01T02:55:14.288728Z"
    }
   },
   "outputs": [
    {
     "data": {
      "application/vnd.microsoft.datawrangler.viewer.v0+json": {
       "columns": [
        {
         "name": "Univers",
         "rawType": "object",
         "type": "string"
        },
        {
         "name": "count",
         "rawType": "int64",
         "type": "integer"
        }
       ],
       "ref": "128dbc2d-90ba-4941-aa07-cfe3c7ac864a",
       "rows": [
        [
         "Chambre Literie",
         "122025"
        ],
        [
         "Canapé Salon Séjour",
         "100594"
        ],
        [
         "Bureau Rangement",
         "68847"
        ],
        [
         "Gros Electroménager",
         "60324"
        ],
        [
         "Décoration Textile",
         "43417"
        ],
        [
         "Cuisine Salle de bain",
         "29282"
        ],
        [
         "Petit Electroménager",
         "28128"
        ],
        [
         "Enfant Bébé",
         "24167"
        ],
        [
         "TV Son Multimédia",
         "21071"
        ],
        [
         "Jardin Loisirs Sport",
         "9492"
        ]
       ],
       "shape": {
        "columns": 1,
        "rows": 10
       }
      },
      "text/plain": [
       "Univers\n",
       "Chambre Literie          122025\n",
       "Canapé Salon Séjour      100594\n",
       "Bureau Rangement          68847\n",
       "Gros Electroménager       60324\n",
       "Décoration Textile        43417\n",
       "Cuisine Salle de bain     29282\n",
       "Petit Electroménager      28128\n",
       "Enfant Bébé               24167\n",
       "TV Son Multimédia         21071\n",
       "Jardin Loisirs Sport       9492\n",
       "Name: count, dtype: int64"
      ]
     },
     "execution_count": 8,
     "metadata": {},
     "output_type": "execute_result"
    }
   ],
   "source": [
    "# Valeurs unique de la column Univers\n",
    "df['Univers'].value_counts()"
   ]
  },
  {
   "cell_type": "code",
   "execution_count": 9,
   "id": "5a5b391b",
   "metadata": {
    "ExecuteTime": {
     "end_time": "2025-08-01T02:50:51.560481Z",
     "start_time": "2025-08-01T02:50:51.240509Z"
    }
   },
   "outputs": [],
   "source": [
    "# Supprimer les données manquantes\n",
    "df_cleaned = df.dropna()\n",
    "# Supprimer les doublons\n",
    "df_cleaned = df_cleaned.drop_duplicates()"
   ]
  },
  {
   "cell_type": "code",
   "execution_count": 10,
   "id": "e8fb03e0352550d8",
   "metadata": {
    "ExecuteTime": {
     "end_time": "2025-08-01T02:50:51.623340Z",
     "start_time": "2025-08-01T02:50:51.613724Z"
    }
   },
   "outputs": [
    {
     "data": {
      "application/vnd.microsoft.datawrangler.viewer.v0+json": {
       "columns": [
        {
         "name": "index",
         "rawType": "int64",
         "type": "integer"
        },
        {
         "name": "Cod_cmd",
         "rawType": "int64",
         "type": "integer"
        },
        {
         "name": "Libellé produit",
         "rawType": "object",
         "type": "string"
        },
        {
         "name": "Vendeur",
         "rawType": "object",
         "type": "string"
        },
        {
         "name": "Univers",
         "rawType": "object",
         "type": "string"
        },
        {
         "name": "Nature",
         "rawType": "object",
         "type": "string"
        },
        {
         "name": "Date de commande",
         "rawType": "int64",
         "type": "integer"
        },
        {
         "name": "Montant cmd",
         "rawType": "int64",
         "type": "integer"
        },
        {
         "name": "Quantité",
         "rawType": "int64",
         "type": "integer"
        },
        {
         "name": "Prix transport",
         "rawType": "float64",
         "type": "float"
        },
        {
         "name": "Délai transport annoncé",
         "rawType": "float64",
         "type": "float"
        }
       ],
       "ref": "a83a86b9-dc94-416a-9223-b7412a8adb01",
       "rows": [
        [
         "0",
         "182210782",
         "Table basse carrée detroit design industriel",
         "Autre vendeur",
         "Canapé Salon Séjour",
         "Table basse",
         "44216",
         "244",
         "4",
         "6.67",
         "10.0"
        ],
        [
         "1",
         "182082437",
         "Ours en peluche géant 150 cm brun",
         "Autre vendeur",
         "Enfant Bébé",
         "Peluche",
         "44213",
         "28",
         "1",
         "9.92",
         "10.0"
        ],
        [
         "2",
         "182095765",
         "Ours en peluche géant 100 cm blanc",
         "Autre vendeur",
         "Enfant Bébé",
         "Peluche",
         "44214",
         "15",
         "1",
         "9.92",
         "10.0"
        ],
        [
         "3",
         "182615392",
         "Lot de 4 chaises mia noires pour salle à manger",
         "Autre vendeur",
         "Canapé Salon Séjour",
         "Chaise",
         "44219",
         "385",
         "2",
         "20.75",
         "10.0"
        ],
        [
         "4",
         "184222081",
         "Meuble tv falko bois blanc et gris",
         "Autre vendeur",
         "Canapé Salon Séjour",
         "Meuble tv",
         "44238",
         "61",
         "1",
         "19.08",
         "10.0"
        ]
       ],
       "shape": {
        "columns": 10,
        "rows": 5
       }
      },
      "text/html": [
       "<div>\n",
       "<style scoped>\n",
       "    .dataframe tbody tr th:only-of-type {\n",
       "        vertical-align: middle;\n",
       "    }\n",
       "\n",
       "    .dataframe tbody tr th {\n",
       "        vertical-align: top;\n",
       "    }\n",
       "\n",
       "    .dataframe thead th {\n",
       "        text-align: right;\n",
       "    }\n",
       "</style>\n",
       "<table border=\"1\" class=\"dataframe\">\n",
       "  <thead>\n",
       "    <tr style=\"text-align: right;\">\n",
       "      <th></th>\n",
       "      <th>Cod_cmd</th>\n",
       "      <th>Libellé produit</th>\n",
       "      <th>Vendeur</th>\n",
       "      <th>Univers</th>\n",
       "      <th>Nature</th>\n",
       "      <th>Date de commande</th>\n",
       "      <th>Montant cmd</th>\n",
       "      <th>Quantité</th>\n",
       "      <th>Prix transport</th>\n",
       "      <th>Délai transport annoncé</th>\n",
       "    </tr>\n",
       "  </thead>\n",
       "  <tbody>\n",
       "    <tr>\n",
       "      <th>0</th>\n",
       "      <td>182210782</td>\n",
       "      <td>Table basse carrée detroit design industriel</td>\n",
       "      <td>Autre vendeur</td>\n",
       "      <td>Canapé Salon Séjour</td>\n",
       "      <td>Table basse</td>\n",
       "      <td>44216</td>\n",
       "      <td>244</td>\n",
       "      <td>4</td>\n",
       "      <td>6.67</td>\n",
       "      <td>10.0</td>\n",
       "    </tr>\n",
       "    <tr>\n",
       "      <th>1</th>\n",
       "      <td>182082437</td>\n",
       "      <td>Ours en peluche géant 150 cm brun</td>\n",
       "      <td>Autre vendeur</td>\n",
       "      <td>Enfant Bébé</td>\n",
       "      <td>Peluche</td>\n",
       "      <td>44213</td>\n",
       "      <td>28</td>\n",
       "      <td>1</td>\n",
       "      <td>9.92</td>\n",
       "      <td>10.0</td>\n",
       "    </tr>\n",
       "    <tr>\n",
       "      <th>2</th>\n",
       "      <td>182095765</td>\n",
       "      <td>Ours en peluche géant 100 cm blanc</td>\n",
       "      <td>Autre vendeur</td>\n",
       "      <td>Enfant Bébé</td>\n",
       "      <td>Peluche</td>\n",
       "      <td>44214</td>\n",
       "      <td>15</td>\n",
       "      <td>1</td>\n",
       "      <td>9.92</td>\n",
       "      <td>10.0</td>\n",
       "    </tr>\n",
       "    <tr>\n",
       "      <th>3</th>\n",
       "      <td>182615392</td>\n",
       "      <td>Lot de 4 chaises mia noires pour salle à manger</td>\n",
       "      <td>Autre vendeur</td>\n",
       "      <td>Canapé Salon Séjour</td>\n",
       "      <td>Chaise</td>\n",
       "      <td>44219</td>\n",
       "      <td>385</td>\n",
       "      <td>2</td>\n",
       "      <td>20.75</td>\n",
       "      <td>10.0</td>\n",
       "    </tr>\n",
       "    <tr>\n",
       "      <th>4</th>\n",
       "      <td>184222081</td>\n",
       "      <td>Meuble tv falko bois blanc et gris</td>\n",
       "      <td>Autre vendeur</td>\n",
       "      <td>Canapé Salon Séjour</td>\n",
       "      <td>Meuble tv</td>\n",
       "      <td>44238</td>\n",
       "      <td>61</td>\n",
       "      <td>1</td>\n",
       "      <td>19.08</td>\n",
       "      <td>10.0</td>\n",
       "    </tr>\n",
       "  </tbody>\n",
       "</table>\n",
       "</div>"
      ],
      "text/plain": [
       "     Cod_cmd                                  Libellé produit        Vendeur  \\\n",
       "0  182210782     Table basse carrée detroit design industriel  Autre vendeur   \n",
       "1  182082437                Ours en peluche géant 150 cm brun  Autre vendeur   \n",
       "2  182095765               Ours en peluche géant 100 cm blanc  Autre vendeur   \n",
       "3  182615392  Lot de 4 chaises mia noires pour salle à manger  Autre vendeur   \n",
       "4  184222081               Meuble tv falko bois blanc et gris  Autre vendeur   \n",
       "\n",
       "               Univers       Nature  Date de commande  Montant cmd  Quantité  \\\n",
       "0  Canapé Salon Séjour  Table basse             44216          244         4   \n",
       "1          Enfant Bébé      Peluche             44213           28         1   \n",
       "2          Enfant Bébé      Peluche             44214           15         1   \n",
       "3  Canapé Salon Séjour       Chaise             44219          385         2   \n",
       "4  Canapé Salon Séjour    Meuble tv             44238           61         1   \n",
       "\n",
       "   Prix transport  Délai transport annoncé  \n",
       "0            6.67                     10.0  \n",
       "1            9.92                     10.0  \n",
       "2            9.92                     10.0  \n",
       "3           20.75                     10.0  \n",
       "4           19.08                     10.0  "
      ]
     },
     "execution_count": 10,
     "metadata": {},
     "output_type": "execute_result"
    }
   ],
   "source": [
    "df_cleaned.head()"
   ]
  },
  {
   "cell_type": "code",
   "execution_count": 11,
   "id": "95f217f35fc0a29a",
   "metadata": {
    "ExecuteTime": {
     "end_time": "2025-08-01T02:50:51.758853Z",
     "start_time": "2025-08-01T02:50:51.755435Z"
    }
   },
   "outputs": [
    {
     "data": {
      "text/plain": [
       "(284088, 10)"
      ]
     },
     "execution_count": 11,
     "metadata": {},
     "output_type": "execute_result"
    }
   ],
   "source": [
    "# taille du dataframe nettoyé\n",
    "df_cleaned.shape"
   ]
  },
  {
   "cell_type": "markdown",
   "id": "8fad0b19708db46",
   "metadata": {},
   "source": [
    "# Préparation et entraitement"
   ]
  },
  {
   "cell_type": "code",
   "execution_count": null,
   "id": "bbc3f3cd7287a5b9",
   "metadata": {
    "ExecuteTime": {
     "end_time": "2025-08-01T02:50:52.150181Z",
     "start_time": "2025-08-01T02:50:52.147906Z"
    }
   },
   "outputs": [],
   "source": [
    "from scipy import stats"
   ]
  }
 ],
 "metadata": {
  "kernelspec": {
   "display_name": ".venv",
   "language": "python",
   "name": "python3"
  },
  "language_info": {
   "codemirror_mode": {
    "name": "ipython",
    "version": 3
   },
   "file_extension": ".py",
   "mimetype": "text/x-python",
   "name": "python",
   "nbconvert_exporter": "python",
   "pygments_lexer": "ipython3",
   "version": "3.13.5"
  }
 },
 "nbformat": 4,
 "nbformat_minor": 5
}
